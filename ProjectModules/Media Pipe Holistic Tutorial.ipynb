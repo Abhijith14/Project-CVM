{
 "cells": [
  {
   "cell_type": "code",
   "execution_count": 12,
   "id": "4ed81e49",
   "metadata": {},
   "outputs": [],
   "source": [
    "from jupyterthemes import jtplot\n",
    "jtplot.style()"
   ]
  },
  {
   "cell_type": "markdown",
   "id": "fb7025a7",
   "metadata": {},
   "source": [
    "# Steps\n",
    "\n",
    "### - Install and import dependencies\n",
    "### - Get realtime webcam feed\n",
    "### - Make Detections from feed\n",
    "1. Detect Facial Landmarks\n",
    "2. Detect Hand poses\n",
    "3. Detect Body poses\n",
    "\n",
    "### - Apply styling"
   ]
  },
  {
   "cell_type": "markdown",
   "id": "91abcc87",
   "metadata": {},
   "source": [
    "https://google.github.io/mediapipe/"
   ]
  },
  {
   "cell_type": "code",
   "execution_count": 3,
   "id": "31bddcd4",
   "metadata": {},
   "outputs": [
    {
     "name": "stdout",
     "output_type": "stream",
     "text": [
      "Collecting mediapipe\n",
      "  Using cached mediapipe-0.8.9.1-cp38-cp38-win_amd64.whl (48.5 MB)\n",
      "Collecting opencv-python\n",
      "  Using cached opencv_python-4.5.5.62-cp36-abi3-win_amd64.whl (35.4 MB)\n",
      "Collecting opencv-contrib-python\n",
      "  Using cached opencv_contrib_python-4.5.5.62-cp36-abi3-win_amd64.whl (42.2 MB)\n",
      "Collecting absl-py\n",
      "  Using cached absl_py-1.0.0-py3-none-any.whl (126 kB)\n",
      "Collecting matplotlib\n",
      "  Downloading matplotlib-3.5.1-cp38-cp38-win_amd64.whl (7.2 MB)\n",
      "Requirement already satisfied: attrs>=19.1.0 in c:\\users\\abhijith udayakumar\\final year project - media pipe\\venv\\lib\\site-packages (from mediapipe) (21.4.0)\n",
      "Collecting protobuf>=3.11.4\n",
      "  Downloading protobuf-3.19.3-cp38-cp38-win_amd64.whl (895 kB)\n",
      "Collecting numpy\n",
      "  Downloading numpy-1.22.1-cp38-cp38-win_amd64.whl (14.7 MB)\n",
      "Requirement already satisfied: six in c:\\users\\abhijith udayakumar\\final year project - media pipe\\venv\\lib\\site-packages (from absl-py->mediapipe) (1.16.0)\n",
      "Requirement already satisfied: packaging>=20.0 in c:\\users\\abhijith udayakumar\\final year project - media pipe\\venv\\lib\\site-packages (from matplotlib->mediapipe) (21.3)\n",
      "Requirement already satisfied: python-dateutil>=2.7 in c:\\users\\abhijith udayakumar\\final year project - media pipe\\venv\\lib\\site-packages (from matplotlib->mediapipe) (2.8.2)\n",
      "Collecting kiwisolver>=1.0.1\n",
      "  Using cached kiwisolver-1.3.2-cp38-cp38-win_amd64.whl (52 kB)\n",
      "Collecting fonttools>=4.22.0\n",
      "  Downloading fonttools-4.28.5-py3-none-any.whl (890 kB)\n",
      "Collecting pillow>=6.2.0\n",
      "  Downloading Pillow-9.0.0-cp38-cp38-win_amd64.whl (3.2 MB)\n",
      "Collecting cycler>=0.10\n",
      "  Downloading cycler-0.11.0-py3-none-any.whl (6.4 kB)\n",
      "Requirement already satisfied: pyparsing>=2.2.1 in c:\\users\\abhijith udayakumar\\final year project - media pipe\\venv\\lib\\site-packages (from matplotlib->mediapipe) (3.0.7)\n",
      "Installing collected packages: pillow, numpy, kiwisolver, fonttools, cycler, protobuf, opencv-contrib-python, matplotlib, absl-py, opencv-python, mediapipe\n",
      "Successfully installed absl-py-1.0.0 cycler-0.11.0 fonttools-4.28.5 kiwisolver-1.3.2 matplotlib-3.5.1 mediapipe-0.8.9.1 numpy-1.22.1 opencv-contrib-python-4.5.5.62 opencv-python-4.5.5.62 pillow-9.0.0 protobuf-3.19.3\n"
     ]
    }
   ],
   "source": [
    "# !pip install mediapipe opencv-python"
   ]
  },
  {
   "cell_type": "code",
   "execution_count": 4,
   "id": "a404f568",
   "metadata": {},
   "outputs": [],
   "source": [
    "import mediapipe as mp\n",
    "import cv2"
   ]
  },
  {
   "cell_type": "code",
   "execution_count": 5,
   "id": "3a28a3df",
   "metadata": {},
   "outputs": [],
   "source": [
    "# setting up mediapipe (drawing utilities and holistic models)\n",
    "mp_drawing = mp.solutions.drawing_utils\n",
    "mp_holistic = mp.solutions.holistic"
   ]
  },
  {
   "cell_type": "code",
   "execution_count": 6,
   "id": "7bcc1f73",
   "metadata": {},
   "outputs": [],
   "source": [
    "# getting webcam"
   ]
  },
  {
   "cell_type": "code",
   "execution_count": 7,
   "id": "411a733c",
   "metadata": {},
   "outputs": [],
   "source": [
    "# for coloring\n",
    "def set_color(color, t, r): # color - BGR, thickness, circle_radius\n",
    "    return mp_drawing.DrawingSpec(color = color, thickness = t, circle_radius = r)"
   ]
  },
  {
   "cell_type": "code",
   "execution_count": 10,
   "id": "040935d7",
   "metadata": {},
   "outputs": [
    {
     "ename": "KeyboardInterrupt",
     "evalue": "",
     "output_type": "error",
     "traceback": [
      "\u001b[1;31m---------------------------------------------------------------------------\u001b[0m",
      "\u001b[1;31mKeyboardInterrupt\u001b[0m                         Traceback (most recent call last)",
      "Input \u001b[1;32mIn [10]\u001b[0m, in \u001b[0;36m<module>\u001b[1;34m\u001b[0m\n\u001b[0;32m     11\u001b[0m \u001b[38;5;28;01mwith\u001b[39;00m mp_holistic\u001b[38;5;241m.\u001b[39mHolistic(min_detection_confidence\u001b[38;5;241m=\u001b[39m\u001b[38;5;241m0.5\u001b[39m, min_tracking_confidence\u001b[38;5;241m=\u001b[39m\u001b[38;5;241m0.5\u001b[39m) \u001b[38;5;28;01mas\u001b[39;00m holistic:\n\u001b[0;32m     13\u001b[0m     \u001b[38;5;28;01mwhile\u001b[39;00m cap\u001b[38;5;241m.\u001b[39misOpened():\n\u001b[1;32m---> 14\u001b[0m         ret, frame \u001b[38;5;241m=\u001b[39m \u001b[43mcap\u001b[49m\u001b[38;5;241;43m.\u001b[39;49m\u001b[43mread\u001b[49m\u001b[43m(\u001b[49m\u001b[43m)\u001b[49m\n\u001b[0;32m     16\u001b[0m         \u001b[38;5;66;03m# Recolor Feed\u001b[39;00m\n\u001b[0;32m     17\u001b[0m         image \u001b[38;5;241m=\u001b[39m cv2\u001b[38;5;241m.\u001b[39mcvtColor(frame, cv2\u001b[38;5;241m.\u001b[39mCOLOR_BGR2RGB) \u001b[38;5;66;03m# because holistic models take RGB frame\u001b[39;00m\n",
      "\u001b[1;31mKeyboardInterrupt\u001b[0m: "
     ]
    }
   ],
   "source": [
    "cap = cv2.VideoCapture(0)\n",
    "\n",
    "################################\n",
    "wCam, hCam = 1280, 960\n",
    "################################\n",
    "\n",
    "cap.set(3, wCam)\n",
    "cap.set(4, hCam)\n",
    "\n",
    "# Initiate holistic model\n",
    "with mp_holistic.Holistic(min_detection_confidence=0.5, min_tracking_confidence=0.5) as holistic:\n",
    "    \n",
    "    while cap.isOpened():\n",
    "        ret, frame = cap.read()\n",
    "        \n",
    "        # Recolor Feed\n",
    "        image = cv2.cvtColor(frame, cv2.COLOR_BGR2RGB) # because holistic models take RGB frame\n",
    "        # Make Detection\n",
    "        results = holistic.process(image) # passing converted frame to holistic model\n",
    "        \n",
    "#         print(results.face_landmarks)\n",
    "#         print(results.pose_landmarks)\n",
    "\n",
    "        # face_landmarks, pose_landmarks, left_hand_landmarks, right_hand_landmarks\n",
    "\n",
    "        # Recolor image back to BGR for rendering\n",
    "        image = cv2.cvtColor(image, cv2.COLOR_RGB2BGR)\n",
    "        \n",
    "        # Draw face landmarks\n",
    "        ## mp_drawing.draw_landmarks(image, results.face_landmarks, mp_holistic.FACE_CONNECTIONS)\n",
    "        ## FACE_CONNECTIONS seems to be renamed/replaced by FACEMESH_TESSELATION.\n",
    "        ## PS: If you want just the outlines of the face, it's now FACEMESH_CONTOURS\n",
    "        \n",
    "        mp_drawing.draw_landmarks(image, results.face_landmarks, mp_holistic.FACEMESH_CONTOURS, \n",
    "                                  set_color((80,110,10), 1, 1),\n",
    "                                  set_color((80,256,121), 1, 1))\n",
    "        mp_drawing.draw_landmarks(image, results.right_hand_landmarks, mp_holistic.HAND_CONNECTIONS,\n",
    "                                  set_color((80,22,10), 2, 4),\n",
    "                                  set_color((80,44,121), 2, 2))\n",
    "        mp_drawing.draw_landmarks(image, results.left_hand_landmarks, mp_holistic.HAND_CONNECTIONS, \n",
    "                                  set_color((121,22,76), 2, 4),\n",
    "                                  set_color((121,44,250), 2, 2))\n",
    "        mp_drawing.draw_landmarks(image, results.pose_landmarks, mp_holistic.POSE_CONNECTIONS,\n",
    "                                  set_color((245,117,66), 2, 4),\n",
    "                                  set_color((245,66,230), 2, 2))\n",
    "        \n",
    "        \n",
    "        cv2.imshow(\"Holistic Model Detections\", image)\n",
    "\n",
    "        if cv2.waitKey(10) and 0xFF == ord('q'):\n",
    "            break\n",
    "        \n",
    "# cap.release()\n",
    "# cv2.destroyAllWindows()"
   ]
  },
  {
   "cell_type": "code",
   "execution_count": 11,
   "id": "2cd191ba",
   "metadata": {},
   "outputs": [],
   "source": [
    "cap.release()\n",
    "cv2.destroyAllWindows()"
   ]
  },
  {
   "cell_type": "code",
   "execution_count": 57,
   "id": "3d277161",
   "metadata": {},
   "outputs": [],
   "source": [
    "# Apply styling"
   ]
  },
  {
   "cell_type": "code",
   "execution_count": 62,
   "id": "58050140",
   "metadata": {},
   "outputs": [],
   "source": [
    "# mp_drawing.DrawingSpec? - ((color), thickness, circle_radius)"
   ]
  },
  {
   "cell_type": "code",
   "execution_count": 79,
   "id": "2d4f403e",
   "metadata": {},
   "outputs": [],
   "source": [
    "# mp_drawing.DrawingSpec(color = (0,0,255), thickness = 2, circle_radius = 2)"
   ]
  },
  {
   "cell_type": "markdown",
   "id": "ff7a27a9",
   "metadata": {},
   "source": [
    "https://github.com/nicknochnack/Full-Body-Estimation-using-Media-Pipe-Holistic/blob/main/Media%20Pipe%20Holistic%20Tutorial.ipynb"
   ]
  }
 ],
 "metadata": {
  "kernelspec": {
   "display_name": "Python 3",
   "language": "python",
   "name": "python3"
  },
  "language_info": {
   "codemirror_mode": {
    "name": "ipython",
    "version": 3
   },
   "file_extension": ".py",
   "mimetype": "text/x-python",
   "name": "python",
   "nbconvert_exporter": "python",
   "pygments_lexer": "ipython3",
   "version": "3.8.8"
  }
 },
 "nbformat": 4,
 "nbformat_minor": 5
}
